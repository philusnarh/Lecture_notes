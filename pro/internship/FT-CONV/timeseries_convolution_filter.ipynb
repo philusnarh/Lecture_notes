{
  "cells": [
    {
      "cell_type": "code",
      "execution_count": null,
      "metadata": {
        "collapsed": false
      },
      "outputs": [],
      "source": [
        "%matplotlib inline"
      ]
    },
    {
      "cell_type": "markdown",
      "metadata": {},
      "source": [
        "\n# Smoothing of TimeSeries Data Using Convolution Filters\n\n\nThis example illustrates smoothing a TimeSeries using a convolution filter\nkernel from `~astropy.convolution` and `~astropy.convolution.convolve`\nfunction.\n\n"
      ]
    },
    {
      "cell_type": "markdown",
      "metadata": {},
      "source": [
        "Start by importing the necessary modules.\n\n"
      ]
    },
    {
      "cell_type": "code",
      "execution_count": null,
      "metadata": {
        "collapsed": false
      },
      "outputs": [],
      "source": [
        "import matplotlib.pyplot as plt\nfrom astropy.convolution import convolve, Box1DKernel\n\nfrom sunpy.timeseries import TimeSeries\nfrom sunpy.data.sample import NOAAINDICES_TIMESERIES as noaa_ind"
      ]
    },
    {
      "cell_type": "markdown",
      "metadata": {},
      "source": [
        "Let's first create a TimeSeries from sample data\n\n"
      ]
    },
    {
      "cell_type": "code",
      "execution_count": null,
      "metadata": {
        "collapsed": false
      },
      "outputs": [],
      "source": [
        "ts_noaa_ind = TimeSeries(noaa_ind, source='NOAAIndices')"
      ]
    },
    {
      "cell_type": "markdown",
      "metadata": {},
      "source": [
        "Now we will extract data values from the TimeSeries and apply a BoxCar filter\nto get smooth data. Boxcar smoothing is equivalent to taking our signal and\nusing it to make a new signal where each element is the average of w adjacent\nelements. Here we will use AstroPy\u2019s convolve function with a \u201cboxcar\u201d kernel\nof width w = 10.\n\n"
      ]
    },
    {
      "cell_type": "code",
      "execution_count": null,
      "metadata": {
        "collapsed": false
      },
      "outputs": [],
      "source": [
        "# Apply convolution filter\nts_noaa_ind.data['sunspot SWO Smoothed'] = convolve(\n    ts_noaa_ind.data['sunspot SWO'].values, kernel=Box1DKernel(10))\n# Plotting original and smoothed timeseries\nplt.ylabel('Sunspot Number')\nplt.xlabel('Time')\nplt.title('Smoothing of Time Series')\nplt.plot(ts_noaa_ind.data['sunspot SWO'])\nplt.plot(ts_noaa_ind.data['sunspot SWO Smoothed'])\nplt.legend()\nplt.show()"
      ]
    }
  ],
  "metadata": {
    "kernelspec": {
      "display_name": "Python 3",
      "language": "python",
      "name": "python3"
    },
    "language_info": {
      "codemirror_mode": {
        "name": "ipython",
        "version": 3
      },
      "file_extension": ".py",
      "mimetype": "text/x-python",
      "name": "python",
      "nbconvert_exporter": "python",
      "pygments_lexer": "ipython3",
      "version": "3.6.2"
    }
  },
  "nbformat": 4,
  "nbformat_minor": 0
}